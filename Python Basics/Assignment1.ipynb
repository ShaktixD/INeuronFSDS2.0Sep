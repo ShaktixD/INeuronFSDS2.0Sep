{
 "cells": [
  {
   "cell_type": "markdown",
   "id": "e0ec658b",
   "metadata": {},
   "source": [
    "# Assignment 1 for Python Basics, \n",
    "# Solved By Shakti Swarup Sahoo"
   ]
  },
  {
   "cell_type": "raw",
   "id": "f7527488",
   "metadata": {},
   "source": [
    "1. In the below elements which of them are values or an expression? eg:- values can be\n",
    "integer or string and expressions will be mathematical operators.\n",
    "\n",
    "*\n",
    "'hello'\n",
    "-87.8\n",
    "-\n",
    "/\n",
    "+\n",
    "6\n",
    "\n",
    "Ans :-  In the above group of elements, \n",
    "        The values are :- 6(int),-87.8(float),'hello'(String)\n",
    "        The operators are :- +,-,*,/"
   ]
  },
  {
   "cell_type": "raw",
   "id": "aed9a7af",
   "metadata": {},
   "source": [
    "2. What is the difference between string and variable?\n",
    "\n",
    "Ans :-  A variable is a memory location where a value is to be stored, whereas strings can be defined         as a type of data, involving sequence of characters, enclosed within ''or \" \" or \"\"\" \"\"(multi         line strings)."
   ]
  },
  {
   "cell_type": "raw",
   "id": "4b8a0746",
   "metadata": {},
   "source": [
    "3. Describe three different data types.\n",
    "\n",
    "Ans :- The different data types available in python are :- \n",
    "    \n",
    "       for handling numeric data:-\n",
    "    \n",
    "        i.   int   = involves storing and performing operation on integral data. \n",
    "        ii.  float = involves storing and performing operation on floating point data or decimal                  numbers.\n",
    "        iii. complex = involves storing and performing operation on complex numbers."
   ]
  },
  {
   "cell_type": "raw",
   "id": "843c6363",
   "metadata": {},
   "source": [
    "4. What is an expression made up of? What do all expressions do?\n",
    "\n",
    "Ans :- An expression is a mixture of constants, variables and operators. \n",
    "       An expression is responsible for providing us a result upon its evaluation.\n",
    "       \n",
    "       for ex :- 12+3-13 is an expression which provides us a result of 2."
   ]
  },
  {
   "cell_type": "raw",
   "id": "f2a8b93c",
   "metadata": {},
   "source": [
    "5. This assignment statements, like spam = 10. What is the difference between an\n",
    "expression and a statement?\n",
    "\n",
    "Ans :- An expression as said above is a combination of constants,variables and operators, upon them          fundamental operations are carried out to eventually get the result.\n",
    "\n",
    "       whereas, statement is a command or instruction that a python intepreter can execute.\n",
    "       here in spam = 10, it tells the python interpreter to store the value 10 in a variable named          as spam."
   ]
  },
  {
   "cell_type": "raw",
   "id": "5b57d963",
   "metadata": {},
   "source": [
    "6. After running the following code, what does the variable bacon contain?\n",
    "\n",
    "bacon = 22\n",
    "bacon + 1\n",
    "\n",
    "Ans :- After running the following above code, the variable bacon will contain the value 22. It would        be unchanged."
   ]
  },
  {
   "cell_type": "raw",
   "id": "614813db",
   "metadata": {},
   "source": [
    "7. What should the values of the following two terms be?\n",
    "\n",
    "'spam' + 'spamspam'\n",
    "'spam' * 3\n",
    "\n",
    "Ans :- The first one will simply concatenate and the value would be 'spamspamspam' but the second            one will will replicate or repeat itself over three times and concatenate it so the value            would be the same 'spamspamspam'"
   ]
  },
  {
   "cell_type": "code",
   "execution_count": 7,
   "id": "8a54fdac",
   "metadata": {},
   "outputs": [
    {
     "name": "stdout",
     "output_type": "stream",
     "text": [
      "spamspamspam\n",
      "spamspamspam\n"
     ]
    }
   ],
   "source": [
    "print('spam' + 'spamspam')\n",
    "print('spam'*3)"
   ]
  },
  {
   "cell_type": "raw",
   "id": "fe9b597a",
   "metadata": {},
   "source": [
    "8. Why is eggs a valid variable name while 100 is invalid?\n",
    "\n",
    "Ans :- eggs is a valid variable name since it starts with an alphabet and 100 is not a proper                variable name because it starts with a digit which is not allowed in the convention of naming        a variable in python."
   ]
  },
  {
   "cell_type": "raw",
   "id": "42e115c2",
   "metadata": {},
   "source": [
    "9. What three functions can be used to get the integer, floating-point number, or string\n",
    "version of a value?\n",
    "\n",
    "Ans :- To get an integral value we just have to simply use an int() function, \n",
    "       and to get a floating point value we just need to use a float() function, \n",
    "       and to get a string value we just need to use a str() function."
   ]
  },
  {
   "cell_type": "raw",
   "id": "e35ab209",
   "metadata": {},
   "source": [
    "10.Why does this expression cause an error? \n",
    "How can you fix it? 'l have eaten ' + 99 + ' burritos.'\n",
    "\n",
    "Ans :- This expression will result in an error since we are trying to concatenate an \n",
    "       integer that is 99 with a string to correct it, what we can do is we can convert \n",
    "       the integer into a string by using a str() function \n",
    "       and then concatenate it with the given strings\n",
    "\n",
    "as follows :- "
   ]
  },
  {
   "cell_type": "code",
   "execution_count": 8,
   "id": "de3235a3",
   "metadata": {},
   "outputs": [
    {
     "data": {
      "text/plain": [
       "'I have eaten 99 burritos'"
      ]
     },
     "execution_count": 8,
     "metadata": {},
     "output_type": "execute_result"
    }
   ],
   "source": [
    "'I have eaten '+str(99)+' burritos'"
   ]
  },
  {
   "cell_type": "markdown",
   "id": "60bfc7b9",
   "metadata": {},
   "source": [
    "==========================X=====================================X====================="
   ]
  }
 ],
 "metadata": {
  "kernelspec": {
   "display_name": "Python 3 (ipykernel)",
   "language": "python",
   "name": "python3"
  },
  "language_info": {
   "codemirror_mode": {
    "name": "ipython",
    "version": 3
   },
   "file_extension": ".py",
   "mimetype": "text/x-python",
   "name": "python",
   "nbconvert_exporter": "python",
   "pygments_lexer": "ipython3",
   "version": "3.9.7"
  }
 },
 "nbformat": 4,
 "nbformat_minor": 5
}
